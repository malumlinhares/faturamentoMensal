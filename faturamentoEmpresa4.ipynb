{
 "cells": [
  {
   "cell_type": "code",
   "execution_count": null,
   "metadata": {},
   "outputs": [],
   "source": [
    "#incluindo as informacoes de faturamnento por estado em uma lista\n",
    "faturamentoMensalPorEstado = [{'Estado': 'SP', 'valor': 67836.43}, {'Estado': 'RJ', 'valor': 36678.66},{'Estado': 'MG', 'valor': 29229.88},\n",
    "{'Estado': 'ES', 'valor': 27165.48}, {'Estado': 'Outros', 'valor': 19849.53}]"
   ]
  },
  {
   "cell_type": "code",
   "execution_count": null,
   "metadata": {},
   "outputs": [],
   "source": [
    "def calculoPercentual(dicionario):\n",
    "    dictPorcentagem = {}\n",
    "    total= 0\n",
    "    for i in dicionario:\n",
    "        total+=i['valor']\n",
    "    print(total)\n",
    "    for i in dicionario:\n",
    "        dictPorcentagem[i['Estado']]= i['valor']/total\n",
    "    return f' A porcentagem de representação que cada estado teve dentro do valor total mensal da distribuidora foi: {dictPorcentagem}.'\n",
    "\n"
   ]
  },
  {
   "cell_type": "code",
   "execution_count": null,
   "metadata": {},
   "outputs": [],
   "source": [
    "calculoPercentual(faturamentoMensalPorEstado)"
   ]
  }
 ],
 "metadata": {
  "kernelspec": {
   "display_name": "Python 3",
   "language": "python",
   "name": "python3"
  },
  "language_info": {
   "codemirror_mode": {
    "name": "ipython",
    "version": 3
   },
   "file_extension": ".py",
   "mimetype": "text/x-python",
   "name": "python",
   "nbconvert_exporter": "python",
   "pygments_lexer": "ipython3",
   "version": "3.10.12"
  }
 },
 "nbformat": 4,
 "nbformat_minor": 2
}
